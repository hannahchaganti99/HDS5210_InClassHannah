{
  "cells": [
    {
      "cell_type": "markdown",
      "metadata": {
        "id": "view-in-github",
        "colab_type": "text"
      },
      "source": [
        "<a href=\"https://colab.research.google.com/github/hannahchaganti99/HDS5210_InClassHannah/blob/master/week11/week11_assignment.ipynb\" target=\"_parent\"><img src=\"https://colab.research.google.com/assets/colab-badge.svg\" alt=\"Open In Colab\"/></a>"
      ]
    },
    {
      "cell_type": "markdown",
      "metadata": {
        "id": "2zxQJeSq7ltf"
      },
      "source": [
        "# Week 11 Assignment\n",
        "\n",
        "\n",
        "Please do the programming exercise and verify that your code works using the tests, then think about your final project and fill out the questions in the second part.\n",
        "\n",
        "---\n",
        "---"
      ]
    },
    {
      "cell_type": "markdown",
      "metadata": {
        "id": "AjC31AeH7lth"
      },
      "source": [
        "### 47.1: Filtering and summarizing data\n",
        "\n",
        "For this work, you'll find a data file in `/data/complications_all.csv`.\n",
        "\n",
        "Read in the data file and create a variable called `mo_hospitals` that contains a data frame from the `complications_all.csv` file, filtered down to only contain those hospitals from the state of Missouri (MO).\n",
        "\n",
        "Then aggregate that data by hospital into a variable named `mo_summary`.  There are some key fields that we want to summarize:\n",
        "* We want to know the earliest date that each hospital was participating in any program\n",
        "* We want to know the latest date that each hospital stopped participating in any program\n",
        "* We want to know the total number of patients in the denominators of these programs\n",
        "\n",
        "Some things to note:\n",
        "* You will need to convert the `Start Date` and `End Date` to actual datetime fields\n",
        "* You will need to clean up and convert the `Denominator` field to just be numeric - the rule that you should use it to simply remove any records where the `Denominator` is `'Not Available'`\n",
        "\n",
        "\n",
        "The final result of this step should be a new data frame called `mo_summary` that contains one row for each hospital and contains the min start date, max end date, and total denominator.  Use the names `start_date`, `end_date`, and `number` for those columns in `mo_summary`.\n",
        "\n",
        "\n",
        "You do not need to create your code in the form of a function, just make sure your variable names match what I've described above so the tests work."
      ]
    },
    {
      "cell_type": "code",
      "execution_count": 1,
      "metadata": {
        "id": "f1r0OpQK7lti"
      },
      "outputs": [],
      "source": [
        "import pandas as pd\n",
        "# This is just to show you the name to use for the variable you need to create for this step to pass.\n",
        "all_hospitals = pd.read_csv('https://hds5210-data.s3.amazonaws.com/complications_all.csv')\n"
      ]
    },
    {
      "cell_type": "code",
      "execution_count": 2,
      "metadata": {
        "id": "udZ3-OHv7lti",
        "outputId": "8fea35fe-a3f7-40b7-bfa1-d4c852ef4adc",
        "colab": {
          "base_uri": "https://localhost:8080/"
        }
      },
      "outputs": [
        {
          "output_type": "stream",
          "name": "stdout",
          "text": [
            "mo_summary has the correct shape of (108, 3):\n",
            "                                    start_date   end_date  number\n",
            "Facility Name                                                    \n",
            "BARNES JEWISH HOSPITAL              2015-04-01 2018-06-30  131313\n",
            "BARNES-JEWISH ST PETERS HOSPITAL    2015-04-01 2018-06-30   15668\n",
            "BARNES-JEWISH WEST COUNTY HOSPITAL  2015-04-01 2018-06-30    9622\n",
            "BATES COUNTY MEMORIAL HOSPITAL      2015-07-01 2018-06-30    3117\n",
            "BELTON REGIONAL MEDICAL CENTER      2015-04-01 2018-06-30    9270\n",
            "...                                        ...        ...     ...\n",
            "TRUMAN MEDICAL CENTER LAKEWOOD      2015-04-01 2018-06-30    4297\n",
            "UNIVERSITY OF MISSOURI HEALTH CARE  2015-04-01 2018-06-30   56493\n",
            "WASHINGTON COUNTY MEMORIAL HOSPITAL 2015-07-01 2018-06-30     220\n",
            "WESTERN MISSOURI MEDICAL CENTER     2015-04-01 2018-06-30    7254\n",
            "WRIGHT MEMORIAL HOSPITAL            2015-07-01 2018-06-30     198\n",
            "\n",
            "[108 rows x 3 columns]\n"
          ]
        },
        {
          "output_type": "stream",
          "name": "stderr",
          "text": [
            "<ipython-input-2-689589967673>:10: SettingWithCopyWarning: \n",
            "A value is trying to be set on a copy of a slice from a DataFrame.\n",
            "Try using .loc[row_indexer,col_indexer] = value instead\n",
            "\n",
            "See the caveats in the documentation: https://pandas.pydata.org/pandas-docs/stable/user_guide/indexing.html#returning-a-view-versus-a-copy\n",
            "  mo_hospitals['Start Date'] = pd.to_datetime(mo_hospitals['Start Date'], errors='coerce')\n",
            "<ipython-input-2-689589967673>:11: SettingWithCopyWarning: \n",
            "A value is trying to be set on a copy of a slice from a DataFrame.\n",
            "Try using .loc[row_indexer,col_indexer] = value instead\n",
            "\n",
            "See the caveats in the documentation: https://pandas.pydata.org/pandas-docs/stable/user_guide/indexing.html#returning-a-view-versus-a-copy\n",
            "  mo_hospitals['End Date'] = pd.to_datetime(mo_hospitals['End Date'], errors='coerce')\n"
          ]
        }
      ],
      "source": [
        "# Do you work here and in as many cells as you need to create a variable called `mo_summary` that matches the requirements\n",
        "# Load the data\n",
        "file_path = '/content/complications_all.csv'\n",
        "data = pd.read_csv(file_path)\n",
        "\n",
        "# Filter to only contain hospitals from Missouri (MO)\n",
        "mo_hospitals = data[data['State'] == 'MO']\n",
        "\n",
        "# Convert 'Start Date' and 'End Date' to datetime fields\n",
        "mo_hospitals['Start Date'] = pd.to_datetime(mo_hospitals['Start Date'], errors='coerce')\n",
        "mo_hospitals['End Date'] = pd.to_datetime(mo_hospitals['End Date'], errors='coerce')\n",
        "\n",
        "# Remove records where 'Denominator' is 'Not Available' and convert it to numeric\n",
        "mo_hospitals = mo_hospitals[mo_hospitals['Denominator'] != 'Not Available']\n",
        "mo_hospitals['Denominator'] = pd.to_numeric(mo_hospitals['Denominator'], errors='coerce')\n",
        "\n",
        "# Aggregate the data to ensure the shape (108, 3) and set 'Facility Name' as the index\n",
        "mo_summary = mo_hospitals.groupby('Facility Name').agg(\n",
        "    start_date=('Start Date', 'min'),\n",
        "    end_date=('End Date', 'max'),\n",
        "    number=('Denominator', 'sum')\n",
        ").reset_index().set_index('Facility Name')[['start_date', 'end_date', 'number']]\n",
        "\n",
        "# Ensure the output has exactly 108 rows and 3 columns\n",
        "if mo_summary.shape == (108, 3):\n",
        "    print(\"mo_summary has the correct shape of (108, 3):\")\n",
        "else:\n",
        "    print(\"Warning: mo_summary does not have the desired shape. Current shape:\", mo_summary.shape)\n",
        "\n",
        "# Display the result\n",
        "print(mo_summary)"
      ]
    },
    {
      "cell_type": "code",
      "execution_count": 3,
      "metadata": {
        "id": "fRFUq8-I7ltj"
      },
      "outputs": [],
      "source": [
        "assert(mo_summary['number'].sum() == 1766908)\n",
        "assert(mo_summary['start_date'].min() == pd.Timestamp(2015,4,1))\n",
        "assert(mo_summary['end_date'].max() == pd.Timestamp(2018,6,30))\n",
        "assert(mo_summary.shape == (108,3))\n",
        "assert(mo_summary.loc['BARNES JEWISH HOSPITAL'].number == 131313)\n",
        "assert(mo_summary.loc['BOONE HOSPITAL CENTER'].number == 63099)"
      ]
    },
    {
      "cell_type": "markdown",
      "metadata": {
        "id": "8LPYgR8c7ltj"
      },
      "source": [
        "---\n",
        "\n",
        "### 47.2 Planning your final project\n",
        "\n",
        "You should be thinking about the things we've been learning and how you can apply them to your final project.  Use the rubric to help guid your thinking and then answer the questions below.  This is meant as a guide to help you think through what you will do."
      ]
    },
    {
      "cell_type": "markdown",
      "metadata": {
        "id": "81EG6MbW7ltj"
      },
      "source": [
        "#### A) Data Access\n",
        "\n",
        "Your project should include data from at least three distinct types of sources.  For example: AWS S3, Relational Databases, Internet, Web Services, local files.  List what data sources you're planning to use."
      ]
    },
    {
      "cell_type": "markdown",
      "metadata": {
        "id": "nBqx1ULL7ltj"
      },
      "source": [
        "**Double-click to enter your answer**\n",
        "\n",
        "Put your answer here\n",
        "\n",
        "I would like to do my final project on Unified Health Data Platform.\n",
        "\n",
        "I will use three distinct type of sources for my final project such as\n",
        "\n",
        "Cloud Storage (AWS S3): An example of AWS S3 to access raw data files that are stored in the cloud for trials, logs, backups, and any data shared within an organization. This source can easily be spread with large volumes of data and also can easily be managed.\n",
        "\n",
        "https://aws.amazon.com/s3/\n",
        "\n",
        "Relational Database (PostgreSQL or MySQL): Connecting to a relational database where tabular and conventional data is stored in values. This could be helpful in case of retrieving the patient data or the transaction history, or any other table which is important for project.\n",
        "\n",
        "https://www.ibm.com/think/topics/postgresql-vs-mysql\n",
        "\n",
        "Web API (REST API from a Health Data Provider): Fetching additional data from the third-party web service related to health for making the dataset more effective. This could involve, using REST APIs to pull current health statistics, demographics of a region, or results of the latest clinical trials.\n",
        "\n",
        "Internet: https://healthdata.gov/\n"
      ]
    },
    {
      "cell_type": "markdown",
      "metadata": {
        "id": "ij2noR9C7ltj"
      },
      "source": [
        "#### B. Data Formats\n",
        "\n",
        "Your project should include data that comes in different file formats.  For example: HL7, EDI, HTML, CSV, Excel, JSON, XML.  List what data formats you're planning to use."
      ]
    },
    {
      "cell_type": "markdown",
      "metadata": {
        "id": "jHV8o7KO7ltj"
      },
      "source": [
        "**Double-click to enter your answer**\n",
        "\n",
        "Put your answer here\n",
        "\n",
        "I will use three data formats for my final project such as\n",
        "\n",
        "JSON (JavaScript Object Notation): Web API data will be stored in JSON format because that is how many formats of data are shared on the internet. JSON files are particularly useful for getting access to some data from web services and APIs which are not especially frequent coming but are highly structured.\n",
        "\n",
        "Excel: Any data stored locally and which are dynamic or maintained by the end-users will include the excel files. Such files may comprise performance reports, custom aggregations, or survey results and their manipulation is quite unproblematic with some built-in tools.\n",
        "\n",
        "HTML: HTML will be included in case if some additional data are needed to be scraped from the Web. Special attention should be paid to HTML content as extracting more context from the web sources is possible for a medical researcher or a public health official.\n"
      ]
    },
    {
      "cell_type": "markdown",
      "metadata": {
        "id": "GUOEwSsa7ltj"
      },
      "source": [
        "#### C. Objective\n",
        "\n",
        "What purpose would your project serve in a real work setting?  Take a couple of paragraphs to write down why this is an interesting product."
      ]
    },
    {
      "cell_type": "markdown",
      "metadata": {
        "id": "UgU1eIPq7ltk"
      },
      "source": [
        "**Double-click to enter your answer**\n",
        "\n",
        "Put your answer here\n",
        "\n",
        "In a real-world setting, the Unified Health Data Platform serves as a critical tool for aggregating, standardizing, and analyzing health data from diverse sources. Health data often resides in silos—ranging from hospital electronic medical records (EMRs) and wearable device data to public health databases and insurance claim files. This fragmentation makes it difficult for healthcare professionals, researchers, and policymakers to derive actionable insights. By creating a platform that seamlessly integrates data from multiple sources, the project aims to break down these silos, enabling comprehensive health analytics.\n",
        "\n",
        "This product is particularly interesting because it addresses one of the most pressing challenges in healthcare: the ability to transform raw data into actionable insights. For instance, researchers can use the platform to identify patterns in patient outcomes across different demographics, enabling the development of personalized treatment protocols. Similarly, public health officials can use it to monitor disease outbreaks by combining real-time internet-sourced data with official records. With the increasing reliance on data-driven decisions in healthcare, this platform offers a scalable and efficient solution to unlock the full potential of health data.\n"
      ]
    },
    {
      "cell_type": "markdown",
      "metadata": {
        "id": "iHbhL-7O7ltk"
      },
      "source": [
        "\n",
        "\n",
        "---\n",
        "\n",
        "\n",
        "\n",
        "## Submit your work via GitHub as normal\n"
      ]
    }
  ],
  "metadata": {
    "kernelspec": {
      "display_name": "Python 3",
      "language": "python",
      "name": "python3"
    },
    "language_info": {
      "codemirror_mode": {
        "name": "ipython",
        "version": 3
      },
      "file_extension": ".py",
      "mimetype": "text/x-python",
      "name": "python",
      "nbconvert_exporter": "python",
      "pygments_lexer": "ipython3",
      "version": "3.9.16"
    },
    "colab": {
      "provenance": [],
      "include_colab_link": true
    }
  },
  "nbformat": 4,
  "nbformat_minor": 0
}
