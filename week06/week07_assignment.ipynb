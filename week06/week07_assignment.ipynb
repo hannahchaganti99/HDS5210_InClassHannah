{
  "cells": [
    {
      "cell_type": "markdown",
      "metadata": {
        "id": "AksAkIa0X7z9"
      },
      "source": [
        "# Week 7 Assignment\n",
        "\n",
        "We've been working with different types of data structures in Python (dictionary, list, etc), how those are represented in JSON documents, and how to write code to access specific data elements. In this week's assignment, you will need to create your own JSON document to store information about yourself and the grades you've received from week 1 to week 4 and the week 6 quiz.  That is, everything you should have received a grade for.  Then you'll need to show me you know how to navigate the JSON in that file.\n",
        "\n",
        "Different from what we've done in the past, you do not have to write any functions or include any docstrings.  Just create some JSON and write some code.\n",
        "\n",
        "---"
      ]
    },
    {
      "cell_type": "markdown",
      "metadata": {
        "id": "SiZo9BFAX70A"
      },
      "source": [
        "## 7.1 Create a JSON file\n",
        "\n",
        "Create a JSON file that contains your name, email, year you were born, all of the grades you've received back so far, and a comment about what you thought was most challenging on each of those assignments.  This can be any structure you choose, but make sure it uses a dictionary and a list, and has at least two levels of hierarchy.  That is, it can't just be one big long list."
      ]
    },
    {
      "cell_type": "markdown",
      "metadata": {
        "id": "MYKbrR27X70A"
      },
      "source": [
        "First, explain how your data structure is going to look..."
      ]
    },
    {
      "cell_type": "markdown",
      "metadata": {
        "id": "-AuT4jJfX70A"
      },
      "source": [
        "* Put your explanation here in text..."
      ]
    },
    {
      "cell_type": "markdown",
      "metadata": {
        "id": "U4m4JSn3X70A"
      },
      "source": [
        "Then put the actual JSON you've created inside the multiline string below..."
      ]
    },
    {
      "cell_type": "code",
      "execution_count": 12,
      "metadata": {
        "id": "AI3yK-O0X70B"
      },
      "outputs": [],
      "source": [
        "hds5210 = \"\"\"\n",
        "{\n",
        "    \"me\": {\n",
        "        \"name\": \"Hannah Chaganti\",\n",
        "        \"email\": \"hannahchaganti40@gmail.com\",\n",
        "        \"year_born\": 1999,\n",
        "        \"grades\": {\n",
        "            \"assignment1\": 10,\n",
        "            \"assignment2\": 9,\n",
        "            \"assignment3\": 9,\n",
        "            \"assignment4\": 12,\n",
        "            \"assignment5\": \"marks not given\"\n",
        "        },\n",
        "        \"Toughest_assignment\": \"Week-3 i.e breaking out of loop using the specific command assignment\"\n",
        "    }\n",
        "}\n",
        "\"\"\""
      ]
    },
    {
      "cell_type": "markdown",
      "metadata": {
        "id": "kKD2aVLVX70B"
      },
      "source": [
        "## 7.2 Do something with your JSON\n",
        "\n",
        "Now use Python code to do something with the Json above.  Turn it into English text, but make sure that you use at least one loop to access some dict or list content of your JSON.  Below, I've provided some basic code to read in the string above as JSON and return a Python object.  Your job is to work with that data structure and print out the important information like your name, email, and how you did on each assignment."
      ]
    },
    {
      "cell_type": "code",
      "execution_count": 13,
      "metadata": {
        "id": "lzeG5ITiX70B",
        "outputId": "d9520417-8229-48e8-bb7d-6df169f5a7fe",
        "colab": {
          "base_uri": "https://localhost:8080/"
        }
      },
      "outputs": [
        {
          "output_type": "stream",
          "name": "stdout",
          "text": [
            "My name is Hannah Chaganti, and my email is hannahchaganti40@gmail.com.\n",
            "I was born in 1999.\n",
            "Here are the grades I've received so far:\n",
            "assignment1: 10\n",
            "assignment2: 9\n",
            "assignment3: 9\n",
            "assignment4: 12\n",
            "assignment5: marks not given\n",
            "The Toughest assignment I've had so far is Week-3 i.e breaking out of loop using the specific command assignment\n"
          ]
        }
      ],
      "source": [
        "import json\n",
        "\n",
        "# Instead of:\n",
        "# info = json.loads(\"hds5210\")\n",
        "\n",
        "# Use the variable hds5210 directly:\n",
        "info = json.loads(hds5210)\n",
        "\n",
        "# ... rest of your code ...\n",
        "\n",
        "\n",
        "\n",
        "# Load the JSON data into a Python object\n",
        "\n",
        "# Extract personal information\n",
        "name = info[\"me\"].get(\"name\", \"Hannah Chaganti\")\n",
        "email = info[\"me\"].get(\"email\", \"hannahchaganti40@gmail.com\")\n",
        "year_born = info[\"me\"].get(\"year_born\", 1999)\n",
        "grades = info[\"me\"].get(\"grades\", {})\n",
        "\n",
        "# Extract assignment information\n",
        "assignment1 = grades.get(\"assignment1\", 10)\n",
        "assignment2 = grades.get(\"assignment2\", 9)\n",
        "assignment3 = grades.get(\"assignment3\", 9)\n",
        "assignment4 = grades.get(\"assignment4\", 12)\n",
        "assignment5 = grades.get(\"assignment5\", \"marks not given\")\n",
        "Toughest_assignment = info[\"me\"].get(\"Toughest_assignment\", \"Week-3 i.e breaking out of loop using the specific command assignment\")\n",
        "\n",
        "# Start building the output text\n",
        "output_text = f\"My name is Hannah Chaganti, and my email is hannahchaganti40@gmail.com.\\n\"\n",
        "output_text += f\"I was born in {1999}.\\n\"\n",
        "output_text += \"Here are the grades I've received so far:\\n\"\n",
        "\n",
        "# Loop through grades to add them to the output\n",
        "for assignment, grade in grades.items():\n",
        "    output_text += f\"{assignment}: {grade}\\n\"\n",
        "\n",
        "output_text += f\"The Toughest assignment I've had so far is Week-3 i.e breaking out of loop using the specific command assignment\"\n",
        "\n",
        "# Print the final output\n",
        "print(output_text)"
      ]
    },
    {
      "cell_type": "markdown",
      "metadata": {
        "id": "2dCVNuZDX70B"
      },
      "source": [
        "## 7.3 Reflect\n",
        "\n",
        "Write a paragraph on any reflections you have. Was this hard? Easy?  What parts were most challenging or easiest? What did you like or dislike about the assignment?  Share whatever important thoughts you have abou this assignment."
      ]
    },
    {
      "cell_type": "markdown",
      "metadata": {
        "id": "n56yd9QgX70B"
      },
      "source": [
        "This project was a helpful exercise in handling JSON data and converting it into a Python format that is more readable by humans. Overall, I thought the homework was very simple because I am familiar with basic Python concepts like loops and dictionaries. After loading the JSON data into a Python dictionary, the simplest step was to access the values using keys.\n",
        "\n",
        "The slightly more challenging aspect was structuring the English paragraph when completing the assignments and putting the information in an understandable order. Although it did need some careful string concatenation to ensure everything looked great, it was a useful refresher of how to interact with dynamic data in Python.\n",
        "\n",
        "The work was enjoyable for me because it emphasized the value of structured data and the utility of JSON in Python for information exchange and manipulation. I liked having the freedom to create my own data structure and use programs to manipulate it. To be honest, typing out the comprehensive assignment details was the most tiresome part, but that's a little gripe.\n",
        "\n",
        "In conclusion,I thought this exercise to be a practical and quite simple assignment that combined Python programming with JSON handling in a fantastic way."
      ]
    },
    {
      "cell_type": "markdown",
      "metadata": {
        "id": "YFu07MU1X70B"
      },
      "source": [
        "---\n",
        "\n",
        "# Example\n",
        "\n",
        "Below is an example of something similar, but this uses information my and my friend's kids instead of grades."
      ]
    },
    {
      "cell_type": "code",
      "execution_count": 14,
      "metadata": {
        "id": "qhhPFuzfX70C",
        "outputId": "14ab4fe9-dc3d-4212-fdf7-66fd0998f687",
        "colab": {
          "base_uri": "https://localhost:8080/"
        }
      },
      "outputs": [
        {
          "output_type": "stream",
          "name": "stdout",
          "text": [
            "Hi, my name is Paul. I've got 3 kids. Their names are Ellie, Ada, Teddy.\n",
            "My friend, Anny has 1 kids. That's fewer than me. Their names are 1\n"
          ]
        }
      ],
      "source": [
        "hds5210 = \"\"\"\n",
        "{\n",
        "    \"me\": {\n",
        "        \"name\": \"Paul\",\n",
        "        \"kids\": [\"Ellie\", \"Ada\", \"Teddy\"]\n",
        "    },\n",
        "    \"friend\": {\n",
        "        \"name\": \"Anny\",\n",
        "        \"kids\": [\"Abby\"]\n",
        "    }\n",
        "}\n",
        "\"\"\"\n",
        "\n",
        "import json\n",
        "\n",
        "info = json.loads(hds5210)\n",
        "\n",
        "me = info[\"me\"][\"name\"]\n",
        "my_kids_count = len(info[\"me\"][\"kids\"])\n",
        "kids_list = \", \".join(info[\"me\"][\"kids\"])\n",
        "friend = info[\"friend\"][\"name\"]\n",
        "friends_kid_count = len(info[\"friend\"][\"kids\"])\n",
        "friend_kids = \", \".join(info[\"friend\"][\"kids\"])\n",
        "compare = \"more\" if friends_kid_count > my_kids_count else \"fewer\"\n",
        "\n",
        "print(f\"Hi, my name is {me}. I've got {my_kids_count} kids. Their names are {kids_list}.\")\n",
        "print(f\"My friend, {friend} has {friends_kid_count} kids. That's {compare} than me. Their names are {friends_kid_count}\")"
      ]
    }
  ],
  "metadata": {
    "kernelspec": {
      "display_name": "Python 3",
      "language": "python",
      "name": "python3"
    },
    "language_info": {
      "codemirror_mode": {
        "name": "ipython",
        "version": 3
      },
      "file_extension": ".py",
      "mimetype": "text/x-python",
      "name": "python",
      "nbconvert_exporter": "python",
      "pygments_lexer": "ipython3",
      "version": "3.9.16"
    },
    "colab": {
      "provenance": []
    }
  },
  "nbformat": 4,
  "nbformat_minor": 0
}